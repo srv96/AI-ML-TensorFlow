{
  "nbformat": 4,
  "nbformat_minor": 0,
  "metadata": {
    "colab": {
      "provenance": [],
      "gpuType": "A100",
      "authorship_tag": "ABX9TyO13kfVDx2CdQ97vp7SFy34",
      "include_colab_link": true
    },
    "kernelspec": {
      "name": "python3",
      "display_name": "Python 3"
    },
    "language_info": {
      "name": "python"
    },
    "accelerator": "GPU"
  },
  "cells": [
    {
      "cell_type": "markdown",
      "metadata": {
        "id": "view-in-github",
        "colab_type": "text"
      },
      "source": [
        "<a href=\"https://colab.research.google.com/github/srv96/AI-ML-TensorFlow/blob/main/Mirrored_Strategy.ipynb\" target=\"_parent\"><img src=\"https://colab.research.google.com/assets/colab-badge.svg\" alt=\"Open In Colab\"/></a>"
      ]
    },
    {
      "cell_type": "code",
      "execution_count": 1,
      "metadata": {
        "id": "T4_ST3j8TowS"
      },
      "outputs": [],
      "source": [
        "import tensorflow as tf"
      ]
    },
    {
      "cell_type": "code",
      "source": [
        "import numpy as np\n",
        "import matplotlib.pyplot as plt"
      ],
      "metadata": {
        "id": "YE54J49AUCWp"
      },
      "execution_count": 2,
      "outputs": []
    },
    {
      "cell_type": "code",
      "source": [
        "cifar10 = tf.keras.datasets.cifar10\n",
        "\n",
        "(X_train, y_train), (X_test, y_test) = cifar10.load_data()\n",
        "X_train , X_test = X_train / 255.0 , X_test / 255.0\n",
        "y_train , y_test = y_train.flatten() , y_test.flatten()\n",
        "\n",
        "print(\"X_train.shape : \", X_train.shape)\n",
        "print(\"X_test.shape : \", X_test.shape)\n",
        "print(\"y_train.shape : \", y_train.shape)\n",
        "print(\"y_test.shape : \", y_test.shape)"
      ],
      "metadata": {
        "colab": {
          "base_uri": "https://localhost:8080/"
        },
        "id": "_O6PBGdTUIjp",
        "outputId": "85fb6943-ee73-4909-d5c1-8b1cd37f991c"
      },
      "execution_count": 3,
      "outputs": [
        {
          "output_type": "stream",
          "name": "stdout",
          "text": [
            "Downloading data from https://www.cs.toronto.edu/~kriz/cifar-10-python.tar.gz\n",
            "\u001b[1m170498071/170498071\u001b[0m \u001b[32m━━━━━━━━━━━━━━━━━━━━\u001b[0m\u001b[37m\u001b[0m \u001b[1m13s\u001b[0m 0us/step\n",
            "X_train.shape :  (50000, 32, 32, 3)\n",
            "X_test.shape :  (10000, 32, 32, 3)\n",
            "y_train.shape :  (50000,)\n",
            "y_test.shape :  (10000,)\n"
          ]
        }
      ]
    },
    {
      "cell_type": "code",
      "source": [
        "K = len(set(y_train))\n",
        "print(\"number of classes : \",K)"
      ],
      "metadata": {
        "colab": {
          "base_uri": "https://localhost:8080/"
        },
        "id": "crxTjPvUUsmy",
        "outputId": "023e8d90-0acb-4eef-d54d-29ff53767c6c"
      },
      "execution_count": 4,
      "outputs": [
        {
          "output_type": "stream",
          "name": "stdout",
          "text": [
            "number of classes :  10\n"
          ]
        }
      ]
    },
    {
      "cell_type": "code",
      "source": [
        "def create_model():\n",
        "  i = tf.keras.layers.Input(shape=X_train[0].shape)\n",
        "\n",
        "  x = tf.keras.layers.Conv2D(32, (3,3), activation='relu' , padding = 'same')(i)\n",
        "  x = tf.keras.layers.BatchNormalization()(x)\n",
        "  x = tf.keras.layers.Conv2D(32, (3,3), activation='relu' , padding = 'same')(x)\n",
        "  x = tf.keras.layers.BatchNormalization()(x)\n",
        "\n",
        "  x = tf.keras.layers.MaxPool2D((2,2))(x)\n",
        "\n",
        "  x = tf.keras.layers.Conv2D(64, (3,3), activation='relu' , padding = 'same')(x)\n",
        "  x = tf.keras.layers.BatchNormalization()(x)\n",
        "  x = tf.keras.layers.Conv2D(64, (3,3), activation='relu' , padding = 'same')(x)\n",
        "  x = tf.keras.layers.BatchNormalization()(x)\n",
        "\n",
        "  x = tf.keras.layers.MaxPool2D((2,2))(x)\n",
        "\n",
        "  x = tf.keras.layers.Conv2D(128, (3,3), activation='relu' , padding = 'same')(x)\n",
        "  x = tf.keras.layers.BatchNormalization()(x)\n",
        "  x = tf.keras.layers.Conv2D(128, (3,3), activation='relu' , padding = 'same')(x)\n",
        "  x = tf.keras.layers.BatchNormalization()(x)\n",
        "\n",
        "  x = tf.keras.layers.MaxPool2D((2,2))(x)\n",
        "\n",
        "  x = tf.keras.layers.Flatten()(x)\n",
        "  x = tf.keras.layers.Dropout(0.2)(x)\n",
        "  x = tf.keras.layers.Dense(1024, activation='relu')(x)\n",
        "  x = tf.keras.layers.Dropout(0.2)(x)\n",
        "  x = tf.keras.layers.Dense(K, activation='softmax')(x)\n",
        "\n",
        "  model = tf.keras.Model(i,x)\n",
        "  return model"
      ],
      "metadata": {
        "id": "06x1rHVzU3H7"
      },
      "execution_count": 5,
      "outputs": []
    },
    {
      "cell_type": "code",
      "source": [
        "strategy = tf.distribute.MirroredStrategy()"
      ],
      "metadata": {
        "id": "n7ghOariV7ln"
      },
      "execution_count": 6,
      "outputs": []
    },
    {
      "cell_type": "code",
      "source": [
        "print(f'Nmuber of devices : {strategy.num_replicas_in_sync}')"
      ],
      "metadata": {
        "colab": {
          "base_uri": "https://localhost:8080/"
        },
        "id": "lJD9erszWES6",
        "outputId": "f04ef58f-3137-4a20-b18a-73b43a77c9e7"
      },
      "execution_count": 7,
      "outputs": [
        {
          "output_type": "stream",
          "name": "stdout",
          "text": [
            "Nmuber of devices : 1\n"
          ]
        }
      ]
    },
    {
      "cell_type": "code",
      "source": [
        "with strategy.scope():\n",
        "  model = create_model()\n",
        "\n",
        "  model.compile(optimizer='adam',\n",
        "                loss='sparse_categorical_crossentropy',\n",
        "                metrics=['accuracy'])\n"
      ],
      "metadata": {
        "id": "Hn9ZkJ5FWJgc"
      },
      "execution_count": 8,
      "outputs": []
    },
    {
      "cell_type": "code",
      "source": [
        "r = model.fit(\n",
        "    X_train,y_train,\n",
        "    validation_data = (X_test,y_test),\n",
        "    batch_size = 128,\n",
        "    epochs = 15\n",
        ")"
      ],
      "metadata": {
        "colab": {
          "base_uri": "https://localhost:8080/"
        },
        "id": "itWKSPGpWTrg",
        "outputId": "4375f461-76cb-426d-9fc7-1a66fb8a0572"
      },
      "execution_count": 9,
      "outputs": [
        {
          "output_type": "stream",
          "name": "stdout",
          "text": [
            "Epoch 1/15\n",
            "\u001b[1m391/391\u001b[0m \u001b[32m━━━━━━━━━━━━━━━━━━━━\u001b[0m\u001b[37m\u001b[0m \u001b[1m14s\u001b[0m 17ms/step - accuracy: 0.4188 - loss: 2.0363 - val_accuracy: 0.2791 - val_loss: 2.2729\n",
            "Epoch 2/15\n",
            "\u001b[1m391/391\u001b[0m \u001b[32m━━━━━━━━━━━━━━━━━━━━\u001b[0m\u001b[37m\u001b[0m \u001b[1m5s\u001b[0m 13ms/step - accuracy: 0.6747 - loss: 0.9168 - val_accuracy: 0.7119 - val_loss: 0.8279\n",
            "Epoch 3/15\n",
            "\u001b[1m391/391\u001b[0m \u001b[32m━━━━━━━━━━━━━━━━━━━━\u001b[0m\u001b[37m\u001b[0m \u001b[1m5s\u001b[0m 12ms/step - accuracy: 0.7603 - loss: 0.6828 - val_accuracy: 0.7349 - val_loss: 0.7584\n",
            "Epoch 4/15\n",
            "\u001b[1m391/391\u001b[0m \u001b[32m━━━━━━━━━━━━━━━━━━━━\u001b[0m\u001b[37m\u001b[0m \u001b[1m5s\u001b[0m 12ms/step - accuracy: 0.8063 - loss: 0.5521 - val_accuracy: 0.7624 - val_loss: 0.6857\n",
            "Epoch 5/15\n",
            "\u001b[1m391/391\u001b[0m \u001b[32m━━━━━━━━━━━━━━━━━━━━\u001b[0m\u001b[37m\u001b[0m \u001b[1m5s\u001b[0m 12ms/step - accuracy: 0.8443 - loss: 0.4466 - val_accuracy: 0.7803 - val_loss: 0.6523\n",
            "Epoch 6/15\n",
            "\u001b[1m391/391\u001b[0m \u001b[32m━━━━━━━━━━━━━━━━━━━━\u001b[0m\u001b[37m\u001b[0m \u001b[1m5s\u001b[0m 12ms/step - accuracy: 0.8754 - loss: 0.3544 - val_accuracy: 0.7857 - val_loss: 0.6768\n",
            "Epoch 7/15\n",
            "\u001b[1m391/391\u001b[0m \u001b[32m━━━━━━━━━━━━━━━━━━━━\u001b[0m\u001b[37m\u001b[0m \u001b[1m5s\u001b[0m 12ms/step - accuracy: 0.8969 - loss: 0.2947 - val_accuracy: 0.7941 - val_loss: 0.6813\n",
            "Epoch 8/15\n",
            "\u001b[1m391/391\u001b[0m \u001b[32m━━━━━━━━━━━━━━━━━━━━\u001b[0m\u001b[37m\u001b[0m \u001b[1m5s\u001b[0m 12ms/step - accuracy: 0.9153 - loss: 0.2372 - val_accuracy: 0.7979 - val_loss: 0.6691\n",
            "Epoch 9/15\n",
            "\u001b[1m391/391\u001b[0m \u001b[32m━━━━━━━━━━━━━━━━━━━━\u001b[0m\u001b[37m\u001b[0m \u001b[1m5s\u001b[0m 12ms/step - accuracy: 0.9298 - loss: 0.2003 - val_accuracy: 0.8183 - val_loss: 0.6150\n",
            "Epoch 10/15\n",
            "\u001b[1m391/391\u001b[0m \u001b[32m━━━━━━━━━━━━━━━━━━━━\u001b[0m\u001b[37m\u001b[0m \u001b[1m5s\u001b[0m 12ms/step - accuracy: 0.9446 - loss: 0.1581 - val_accuracy: 0.8245 - val_loss: 0.6791\n",
            "Epoch 11/15\n",
            "\u001b[1m391/391\u001b[0m \u001b[32m━━━━━━━━━━━━━━━━━━━━\u001b[0m\u001b[37m\u001b[0m \u001b[1m5s\u001b[0m 12ms/step - accuracy: 0.9514 - loss: 0.1410 - val_accuracy: 0.8085 - val_loss: 0.6989\n",
            "Epoch 12/15\n",
            "\u001b[1m391/391\u001b[0m \u001b[32m━━━━━━━━━━━━━━━━━━━━\u001b[0m\u001b[37m\u001b[0m \u001b[1m5s\u001b[0m 12ms/step - accuracy: 0.9559 - loss: 0.1299 - val_accuracy: 0.8109 - val_loss: 0.7506\n",
            "Epoch 13/15\n",
            "\u001b[1m391/391\u001b[0m \u001b[32m━━━━━━━━━━━━━━━━━━━━\u001b[0m\u001b[37m\u001b[0m \u001b[1m5s\u001b[0m 12ms/step - accuracy: 0.9597 - loss: 0.1160 - val_accuracy: 0.8026 - val_loss: 0.7982\n",
            "Epoch 14/15\n",
            "\u001b[1m391/391\u001b[0m \u001b[32m━━━━━━━━━━━━━━━━━━━━\u001b[0m\u001b[37m\u001b[0m \u001b[1m5s\u001b[0m 12ms/step - accuracy: 0.9645 - loss: 0.1041 - val_accuracy: 0.8220 - val_loss: 0.7570\n",
            "Epoch 15/15\n",
            "\u001b[1m391/391\u001b[0m \u001b[32m━━━━━━━━━━━━━━━━━━━━\u001b[0m\u001b[37m\u001b[0m \u001b[1m5s\u001b[0m 12ms/step - accuracy: 0.9669 - loss: 0.0959 - val_accuracy: 0.8164 - val_loss: 0.8292\n"
          ]
        }
      ]
    },
    {
      "cell_type": "code",
      "source": [
        "#without distribution\n",
        "model2 = create_model()\n",
        "\n",
        "model2.compile(optimizer='adam',\n",
        "                loss='sparse_categorical_crossentropy',\n",
        "                metrics=['accuracy'])\n",
        "\n",
        "r = model2.fit(\n",
        "    X_train,y_train,\n",
        "    validation_data = (X_test,y_test),\n",
        "    batch_size = 128,\n",
        "    epochs = 15\n",
        ")"
      ],
      "metadata": {
        "colab": {
          "base_uri": "https://localhost:8080/"
        },
        "id": "v3NM_B5oXokY",
        "outputId": "f5aae4a0-3d84-4752-87db-6fe858386bec"
      },
      "execution_count": 10,
      "outputs": [
        {
          "output_type": "stream",
          "name": "stdout",
          "text": [
            "Epoch 1/15\n",
            "\u001b[1m391/391\u001b[0m \u001b[32m━━━━━━━━━━━━━━━━━━━━\u001b[0m\u001b[37m\u001b[0m \u001b[1m23s\u001b[0m 31ms/step - accuracy: 0.4159 - loss: 2.1245 - val_accuracy: 0.2671 - val_loss: 2.4958\n",
            "Epoch 2/15\n",
            "\u001b[1m391/391\u001b[0m \u001b[32m━━━━━━━━━━━━━━━━━━━━\u001b[0m\u001b[37m\u001b[0m \u001b[1m2s\u001b[0m 5ms/step - accuracy: 0.6835 - loss: 0.8977 - val_accuracy: 0.6928 - val_loss: 0.8623\n",
            "Epoch 3/15\n",
            "\u001b[1m391/391\u001b[0m \u001b[32m━━━━━━━━━━━━━━━━━━━━\u001b[0m\u001b[37m\u001b[0m \u001b[1m2s\u001b[0m 5ms/step - accuracy: 0.7669 - loss: 0.6703 - val_accuracy: 0.7343 - val_loss: 0.7715\n",
            "Epoch 4/15\n",
            "\u001b[1m391/391\u001b[0m \u001b[32m━━━━━━━━━━━━━━━━━━━━\u001b[0m\u001b[37m\u001b[0m \u001b[1m2s\u001b[0m 5ms/step - accuracy: 0.8129 - loss: 0.5393 - val_accuracy: 0.7758 - val_loss: 0.6653\n",
            "Epoch 5/15\n",
            "\u001b[1m391/391\u001b[0m \u001b[32m━━━━━━━━━━━━━━━━━━━━\u001b[0m\u001b[37m\u001b[0m \u001b[1m2s\u001b[0m 5ms/step - accuracy: 0.8427 - loss: 0.4485 - val_accuracy: 0.7911 - val_loss: 0.6296\n",
            "Epoch 6/15\n",
            "\u001b[1m391/391\u001b[0m \u001b[32m━━━━━━━━━━━━━━━━━━━━\u001b[0m\u001b[37m\u001b[0m \u001b[1m2s\u001b[0m 5ms/step - accuracy: 0.8721 - loss: 0.3681 - val_accuracy: 0.7856 - val_loss: 0.6493\n",
            "Epoch 7/15\n",
            "\u001b[1m391/391\u001b[0m \u001b[32m━━━━━━━━━━━━━━━━━━━━\u001b[0m\u001b[37m\u001b[0m \u001b[1m2s\u001b[0m 5ms/step - accuracy: 0.8957 - loss: 0.2940 - val_accuracy: 0.7709 - val_loss: 0.7129\n",
            "Epoch 8/15\n",
            "\u001b[1m391/391\u001b[0m \u001b[32m━━━━━━━━━━━━━━━━━━━━\u001b[0m\u001b[37m\u001b[0m \u001b[1m2s\u001b[0m 5ms/step - accuracy: 0.9124 - loss: 0.2481 - val_accuracy: 0.7837 - val_loss: 0.7168\n",
            "Epoch 9/15\n",
            "\u001b[1m391/391\u001b[0m \u001b[32m━━━━━━━━━━━━━━━━━━━━\u001b[0m\u001b[37m\u001b[0m \u001b[1m2s\u001b[0m 5ms/step - accuracy: 0.9303 - loss: 0.1969 - val_accuracy: 0.8061 - val_loss: 0.6900\n",
            "Epoch 10/15\n",
            "\u001b[1m391/391\u001b[0m \u001b[32m━━━━━━━━━━━━━━━━━━━━\u001b[0m\u001b[37m\u001b[0m \u001b[1m2s\u001b[0m 5ms/step - accuracy: 0.9425 - loss: 0.1653 - val_accuracy: 0.7983 - val_loss: 0.7657\n",
            "Epoch 11/15\n",
            "\u001b[1m391/391\u001b[0m \u001b[32m━━━━━━━━━━━━━━━━━━━━\u001b[0m\u001b[37m\u001b[0m \u001b[1m2s\u001b[0m 5ms/step - accuracy: 0.9502 - loss: 0.1455 - val_accuracy: 0.8140 - val_loss: 0.7008\n",
            "Epoch 12/15\n",
            "\u001b[1m391/391\u001b[0m \u001b[32m━━━━━━━━━━━━━━━━━━━━\u001b[0m\u001b[37m\u001b[0m \u001b[1m2s\u001b[0m 5ms/step - accuracy: 0.9547 - loss: 0.1342 - val_accuracy: 0.8086 - val_loss: 0.7591\n",
            "Epoch 13/15\n",
            "\u001b[1m391/391\u001b[0m \u001b[32m━━━━━━━━━━━━━━━━━━━━\u001b[0m\u001b[37m\u001b[0m \u001b[1m2s\u001b[0m 5ms/step - accuracy: 0.9592 - loss: 0.1171 - val_accuracy: 0.8100 - val_loss: 0.7796\n",
            "Epoch 14/15\n",
            "\u001b[1m391/391\u001b[0m \u001b[32m━━━━━━━━━━━━━━━━━━━━\u001b[0m\u001b[37m\u001b[0m \u001b[1m2s\u001b[0m 5ms/step - accuracy: 0.9633 - loss: 0.1077 - val_accuracy: 0.8167 - val_loss: 0.7350\n",
            "Epoch 15/15\n",
            "\u001b[1m391/391\u001b[0m \u001b[32m━━━━━━━━━━━━━━━━━━━━\u001b[0m\u001b[37m\u001b[0m \u001b[1m2s\u001b[0m 5ms/step - accuracy: 0.9655 - loss: 0.1020 - val_accuracy: 0.7988 - val_loss: 0.8427\n"
          ]
        }
      ]
    }
  ]
}