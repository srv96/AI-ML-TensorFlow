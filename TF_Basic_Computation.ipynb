{
  "nbformat": 4,
  "nbformat_minor": 0,
  "metadata": {
    "colab": {
      "provenance": [],
      "toc_visible": true,
      "authorship_tag": "ABX9TyOIZIDoBA+tZ3+x7ZB+tLK2",
      "include_colab_link": true
    },
    "kernelspec": {
      "name": "python3",
      "display_name": "Python 3"
    },
    "language_info": {
      "name": "python"
    }
  },
  "cells": [
    {
      "cell_type": "markdown",
      "metadata": {
        "id": "view-in-github",
        "colab_type": "text"
      },
      "source": [
        "<a href=\"https://colab.research.google.com/github/srv96/AI-ML-TensorFlow/blob/main/TF_Basic_Computation.ipynb\" target=\"_parent\"><img src=\"https://colab.research.google.com/assets/colab-badge.svg\" alt=\"Open In Colab\"/></a>"
      ]
    },
    {
      "cell_type": "code",
      "source": [
        "import tensorflow as tf"
      ],
      "metadata": {
        "id": "vCmGD7RvF7rE"
      },
      "execution_count": 1,
      "outputs": []
    },
    {
      "cell_type": "code",
      "source": [
        "a = tf.constant(3.0)\n",
        "b = tf.constant(4.0)\n",
        "c = tf.sqrt(tf.square(a) + tf.square(b))\n",
        "print(c)\n",
        "print(f\"c: {c}\")"
      ],
      "metadata": {
        "colab": {
          "base_uri": "https://localhost:8080/"
        },
        "id": "kAWKW6BahoFF",
        "outputId": "cffbe135-1435-4e2f-ec3c-e63abea24c75"
      },
      "execution_count": 8,
      "outputs": [
        {
          "output_type": "stream",
          "name": "stdout",
          "text": [
            "tf.Tensor(5.0, shape=(), dtype=float32)\n",
            "c: 5.0\n"
          ]
        }
      ]
    },
    {
      "cell_type": "code",
      "source": [
        "c.numpy()"
      ],
      "metadata": {
        "colab": {
          "base_uri": "https://localhost:8080/"
        },
        "id": "aHqgZF3FhwtD",
        "outputId": "906e7473-7908-4580-983a-b13d7471a195"
      },
      "execution_count": 9,
      "outputs": [
        {
          "output_type": "execute_result",
          "data": {
            "text/plain": [
              "5.0"
            ]
          },
          "metadata": {},
          "execution_count": 9
        }
      ]
    },
    {
      "cell_type": "code",
      "source": [
        "type(c.numpy())"
      ],
      "metadata": {
        "colab": {
          "base_uri": "https://localhost:8080/"
        },
        "id": "0ssqLjIsioLY",
        "outputId": "5a431b34-0b71-4646-9c9e-23540f5b49ad"
      },
      "execution_count": 10,
      "outputs": [
        {
          "output_type": "execute_result",
          "data": {
            "text/plain": [
              "numpy.float32"
            ]
          },
          "metadata": {},
          "execution_count": 10
        }
      ]
    },
    {
      "cell_type": "code",
      "source": [
        "a = tf.constant([1,2,3])\n",
        "b = tf.constant([4,5,6])\n",
        "c = tf.tensordot(a,b,axes = [0,0])\n",
        "print(f'c : {c}')"
      ],
      "metadata": {
        "colab": {
          "base_uri": "https://localhost:8080/"
        },
        "id": "0DtLE7KNisIs",
        "outputId": "211e00cc-0682-4cbf-9e97-e8b3ceaab6f2"
      },
      "execution_count": 13,
      "outputs": [
        {
          "output_type": "stream",
          "name": "stdout",
          "text": [
            "c : 32\n"
          ]
        }
      ]
    },
    {
      "cell_type": "code",
      "source": [
        "a.numpy().dot(b.numpy())"
      ],
      "metadata": {
        "colab": {
          "base_uri": "https://localhost:8080/"
        },
        "id": "fbJbYPsXjMf5",
        "outputId": "4a3786dc-62ec-4170-de96-705add963dff"
      },
      "execution_count": 14,
      "outputs": [
        {
          "output_type": "execute_result",
          "data": {
            "text/plain": [
              "32"
            ]
          },
          "metadata": {},
          "execution_count": 14
        }
      ]
    },
    {
      "cell_type": "code",
      "source": [
        "import numpy as np\n",
        "\n",
        "A0 = np.random.randn(3,3)\n",
        "b0 = np.random.randn(3,1)\n",
        "c0 = A0.dot(b0)\n",
        "print(f'c0 : {c0}')"
      ],
      "metadata": {
        "colab": {
          "base_uri": "https://localhost:8080/"
        },
        "id": "P5akiPdNjRRd",
        "outputId": "b7c4805e-83ad-40fe-a65c-a03d3e42b503"
      },
      "execution_count": 15,
      "outputs": [
        {
          "output_type": "stream",
          "name": "stdout",
          "text": [
            "c0 : [[-2.22219741]\n",
            " [-0.05015399]\n",
            " [ 2.00600736]]\n"
          ]
        }
      ]
    },
    {
      "cell_type": "code",
      "source": [
        "A = tf.constant(A0)\n",
        "b = tf.constant(b0)\n",
        "c = tf.matmul(A,b)\n",
        "print(f'c : {c}')"
      ],
      "metadata": {
        "colab": {
          "base_uri": "https://localhost:8080/"
        },
        "id": "H1MoVaUVjeAj",
        "outputId": "d8217e19-4657-4e3f-f263-facb27d826fc"
      },
      "execution_count": 16,
      "outputs": [
        {
          "output_type": "stream",
          "name": "stdout",
          "text": [
            "c : [[-2.22219741]\n",
            " [-0.05015399]\n",
            " [ 2.00600736]]\n"
          ]
        }
      ]
    },
    {
      "cell_type": "code",
      "source": [
        "A = tf.constant([[1,2],[3,4]])\n",
        "b = tf.constant(1)\n",
        "c = A + b\n",
        "print(f'c : {c}')"
      ],
      "metadata": {
        "colab": {
          "base_uri": "https://localhost:8080/"
        },
        "id": "eaq4QyzWjjIX",
        "outputId": "1c951d97-053c-4e75-e033-0c9c526f5e4c"
      },
      "execution_count": 17,
      "outputs": [
        {
          "output_type": "stream",
          "name": "stdout",
          "text": [
            "c : [[2 3]\n",
            " [4 5]]\n"
          ]
        }
      ]
    },
    {
      "cell_type": "code",
      "source": [
        "a = tf.constant([[1,2],[3,4]])\n",
        "b = tf.constant([[2,3],[4,5]])\n",
        "c = a * b\n",
        "print(f'c : {c}')"
      ],
      "metadata": {
        "colab": {
          "base_uri": "https://localhost:8080/"
        },
        "id": "JoL1ubjtj5JB",
        "outputId": "021c6736-5012-409a-cffc-f9980e160b26"
      },
      "execution_count": 18,
      "outputs": [
        {
          "output_type": "stream",
          "name": "stdout",
          "text": [
            "c : [[ 2  6]\n",
            " [12 20]]\n"
          ]
        }
      ]
    }
  ]
}