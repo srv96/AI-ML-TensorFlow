{
  "nbformat": 4,
  "nbformat_minor": 0,
  "metadata": {
    "colab": {
      "provenance": [],
      "gpuType": "V28",
      "authorship_tag": "ABX9TyPiL45S6IAILonYEl5k31QL",
      "include_colab_link": true
    },
    "kernelspec": {
      "name": "python3",
      "display_name": "Python 3"
    },
    "language_info": {
      "name": "python"
    },
    "accelerator": "TPU"
  },
  "cells": [
    {
      "cell_type": "markdown",
      "metadata": {
        "id": "view-in-github",
        "colab_type": "text"
      },
      "source": [
        "<a href=\"https://colab.research.google.com/github/srv96/AI-ML-TensorFlow/blob/main/TPU_Strategy.ipynb\" target=\"_parent\"><img src=\"https://colab.research.google.com/assets/colab-badge.svg\" alt=\"Open In Colab\"/></a>"
      ]
    },
    {
      "cell_type": "code",
      "execution_count": 1,
      "metadata": {
        "id": "JF4Ff6dDZpLr"
      },
      "outputs": [],
      "source": [
        "import tensorflow as tf"
      ]
    },
    {
      "cell_type": "code",
      "source": [
        "import numpy as np\n",
        "import matplotlib.pyplot as plt\n",
        "import pandas as pd"
      ],
      "metadata": {
        "id": "4iAsVWNMZwu1"
      },
      "execution_count": 2,
      "outputs": []
    },
    {
      "cell_type": "code",
      "source": [
        "import tensorflow as tf\n",
        "\n",
        "# Automatically detect the TPU\n",
        "resolver = tf.distribute.cluster_resolver.TPUClusterResolver()\n",
        "tf.config.experimental_connect_to_cluster(resolver)\n",
        "tf.tpu.experimental.initialize_tpu_system(resolver)\n",
        "\n",
        "# List all available logical devices\n",
        "print(\"All devices: \", tf.config.list_logical_devices('TPU'))\n"
      ],
      "metadata": {
        "colab": {
          "base_uri": "https://localhost:8080/"
        },
        "id": "_wjDEdvtauIi",
        "outputId": "32a260da-6fe8-4460-d28a-22ee82cc04a1"
      },
      "execution_count": 11,
      "outputs": [
        {
          "output_type": "stream",
          "name": "stdout",
          "text": [
            "All devices:  [LogicalDevice(name='/device:TPU:0', device_type='TPU'), LogicalDevice(name='/device:TPU:1', device_type='TPU'), LogicalDevice(name='/device:TPU:2', device_type='TPU'), LogicalDevice(name='/device:TPU:3', device_type='TPU'), LogicalDevice(name='/device:TPU:4', device_type='TPU'), LogicalDevice(name='/device:TPU:5', device_type='TPU'), LogicalDevice(name='/device:TPU:6', device_type='TPU'), LogicalDevice(name='/device:TPU:7', device_type='TPU')]\n"
          ]
        }
      ]
    },
    {
      "cell_type": "code",
      "source": [
        "strategy = tf.distribute.TPUStrategy(resolver)"
      ],
      "metadata": {
        "id": "0vLCzCeyaT0e"
      },
      "execution_count": 12,
      "outputs": []
    },
    {
      "cell_type": "markdown",
      "source": [
        "Note : model creation must be in strategy scope\n",
        "\n",
        "we will define the function now but this code\n",
        "\n",
        "wont run outside the scope"
      ],
      "metadata": {
        "id": "CkNU2kn9b9ge"
      }
    },
    {
      "cell_type": "code",
      "source": [
        "def create_model(input_shape,num_classes):\n",
        "  i = tf.keras.layers.Input(shape=input_shape)\n",
        "\n",
        "  x = tf.keras.layers.Conv2D(32, (3,3), activation='relu' , padding = 'same')(i)\n",
        "  x = tf.keras.layers.BatchNormalization()(x)\n",
        "  x = tf.keras.layers.Conv2D(32, (3,3), activation='relu' , padding = 'same')(x)\n",
        "  x = tf.keras.layers.BatchNormalization()(x)\n",
        "\n",
        "  x = tf.keras.layers.MaxPool2D((2,2))(x)\n",
        "\n",
        "  x = tf.keras.layers.Conv2D(64, (3,3), activation='relu' , padding = 'same')(x)\n",
        "  x = tf.keras.layers.BatchNormalization()(x)\n",
        "  x = tf.keras.layers.Conv2D(64, (3,3), activation='relu' , padding = 'same')(x)\n",
        "  x = tf.keras.layers.BatchNormalization()(x)\n",
        "\n",
        "  x = tf.keras.layers.MaxPool2D((2,2))(x)\n",
        "\n",
        "  x = tf.keras.layers.Conv2D(128, (3,3), activation='relu' , padding = 'same')(x)\n",
        "  x = tf.keras.layers.BatchNormalization()(x)\n",
        "  x = tf.keras.layers.Conv2D(128, (3,3), activation='relu' , padding = 'same')(x)\n",
        "  x = tf.keras.layers.BatchNormalization()(x)\n",
        "\n",
        "  x = tf.keras.layers.MaxPool2D((2,2))(x)\n",
        "\n",
        "  x = tf.keras.layers.Flatten()(x)\n",
        "  x = tf.keras.layers.Dropout(0.2)(x)\n",
        "  x = tf.keras.layers.Dense(1024, activation='relu')(x)\n",
        "  x = tf.keras.layers.Dropout(0.2)(x)\n",
        "  x = tf.keras.layers.Dense(num_classes, activation='softmax')(x)\n",
        "\n",
        "  model = tf.keras.Model(i,x)\n",
        "  return model"
      ],
      "metadata": {
        "id": "QI_ACPkscNuf"
      },
      "execution_count": 18,
      "outputs": []
    },
    {
      "cell_type": "code",
      "source": [
        "cifar10 = tf.keras.datasets.cifar10\n",
        "\n",
        "(X_train, y_train), (X_test, y_test) = cifar10.load_data()\n",
        "X_train , X_test = X_train / 255.0 , X_test / 255.0\n",
        "y_train , y_test = y_train.flatten() , y_test.flatten()\n",
        "\n",
        "print(\"X_train.shape : \", X_train.shape)\n",
        "print(\"X_test.shape : \", X_test.shape)\n",
        "print(\"y_train.shape : \", y_train.shape)\n",
        "print(\"y_test.shape : \", y_test.shape)"
      ],
      "metadata": {
        "colab": {
          "base_uri": "https://localhost:8080/"
        },
        "id": "xta_hTCqcimk",
        "outputId": "fb46a9fc-7da9-45ca-cbf0-18f6a13ea75b"
      },
      "execution_count": 14,
      "outputs": [
        {
          "output_type": "stream",
          "name": "stdout",
          "text": [
            "Downloading data from https://www.cs.toronto.edu/~kriz/cifar-10-python.tar.gz\n",
            "\u001b[1m170498071/170498071\u001b[0m \u001b[32m━━━━━━━━━━━━━━━━━━━━\u001b[0m\u001b[37m\u001b[0m \u001b[1m2s\u001b[0m 0us/step\n",
            "X_train.shape :  (50000, 32, 32, 3)\n",
            "X_test.shape :  (10000, 32, 32, 3)\n",
            "y_train.shape :  (50000,)\n",
            "y_test.shape :  (10000,)\n"
          ]
        }
      ]
    },
    {
      "cell_type": "code",
      "source": [
        "train_dataset = tf.data.Dataset.from_tensor_slices((X_train, y_train))\n",
        "test_dataset = tf.data.Dataset.from_tensor_slices((X_test, y_test))"
      ],
      "metadata": {
        "id": "o_kwoGbJcqua"
      },
      "execution_count": 19,
      "outputs": []
    },
    {
      "cell_type": "code",
      "source": [
        "K = len(np.unique(y_train))\n",
        "print(\"Number of classes : \", K)\n",
        "\n",
        "with strategy.scope():\n",
        "  model = create_model(X_train.shape[1:], K)\n",
        "  model.compile(\n",
        "      optimizer = 'adam',\n",
        "      loss = tf.keras.losses.SparseCategoricalCrossentropy(from_logits=True),\n",
        "      metrics = ['sparse_categorical_accuracy']\n",
        "  )\n",
        "\n",
        "  batch_size = 256\n",
        "\n",
        "  train_dataset = train_dataset.shuffle(1000).batch(batch_size)\n",
        "  test_dataset = test_dataset.batch(batch_size)\n",
        "\n",
        "  model.fit(\n",
        "      train_dataset,\n",
        "      epochs = 10,\n",
        "      validation_data = test_dataset\n",
        "  )\n"
      ],
      "metadata": {
        "colab": {
          "base_uri": "https://localhost:8080/"
        },
        "id": "aw8x1eTEcvkC",
        "outputId": "af1f10f6-0279-4fb8-9efd-df128af5e72d"
      },
      "execution_count": 20,
      "outputs": [
        {
          "output_type": "stream",
          "name": "stdout",
          "text": [
            "Number of classes :  10\n",
            "Epoch 1/10\n"
          ]
        },
        {
          "output_type": "stream",
          "name": "stderr",
          "text": [
            "/usr/local/lib/python3.11/dist-packages/keras/src/backend/tensorflow/nn.py:635: UserWarning: \"`sparse_categorical_crossentropy` received `from_logits=True`, but the `output` argument was produced by a Softmax activation and thus does not represent logits. Was this intended?\n",
            "  output, from_logits = _get_logits(\n"
          ]
        },
        {
          "output_type": "stream",
          "name": "stdout",
          "text": [
            "\u001b[1m196/196\u001b[0m \u001b[32m━━━━━━━━━━━━━━━━━━━━\u001b[0m\u001b[37m\u001b[0m \u001b[1m32s\u001b[0m 111ms/step - loss: 2.0306 - sparse_categorical_accuracy: 0.3993 - val_loss: 2.9291 - val_sparse_categorical_accuracy: 0.2080\n",
            "Epoch 2/10\n",
            "\u001b[1m196/196\u001b[0m \u001b[32m━━━━━━━━━━━━━━━━━━━━\u001b[0m\u001b[37m\u001b[0m \u001b[1m15s\u001b[0m 69ms/step - loss: 0.9756 - sparse_categorical_accuracy: 0.6522 - val_loss: 2.8220 - val_sparse_categorical_accuracy: 0.2592\n",
            "Epoch 3/10\n",
            "\u001b[1m196/196\u001b[0m \u001b[32m━━━━━━━━━━━━━━━━━━━━\u001b[0m\u001b[37m\u001b[0m \u001b[1m15s\u001b[0m 73ms/step - loss: 0.7423 - sparse_categorical_accuracy: 0.7335 - val_loss: 0.9190 - val_sparse_categorical_accuracy: 0.7160\n",
            "Epoch 4/10\n",
            "\u001b[1m196/196\u001b[0m \u001b[32m━━━━━━━━━━━━━━━━━━━━\u001b[0m\u001b[37m\u001b[0m \u001b[1m15s\u001b[0m 72ms/step - loss: 0.6114 - sparse_categorical_accuracy: 0.7908 - val_loss: 0.8635 - val_sparse_categorical_accuracy: 0.7328\n",
            "Epoch 5/10\n",
            "\u001b[1m196/196\u001b[0m \u001b[32m━━━━━━━━━━━━━━━━━━━━\u001b[0m\u001b[37m\u001b[0m \u001b[1m16s\u001b[0m 75ms/step - loss: 0.4832 - sparse_categorical_accuracy: 0.8273 - val_loss: 0.7593 - val_sparse_categorical_accuracy: 0.7648\n",
            "Epoch 6/10\n",
            "\u001b[1m196/196\u001b[0m \u001b[32m━━━━━━━━━━━━━━━━━━━━\u001b[0m\u001b[37m\u001b[0m \u001b[1m14s\u001b[0m 68ms/step - loss: 0.4372 - sparse_categorical_accuracy: 0.8380 - val_loss: 0.8229 - val_sparse_categorical_accuracy: 0.7544\n",
            "Epoch 7/10\n",
            "\u001b[1m196/196\u001b[0m \u001b[32m━━━━━━━━━━━━━━━━━━━━\u001b[0m\u001b[37m\u001b[0m \u001b[1m14s\u001b[0m 68ms/step - loss: 0.3369 - sparse_categorical_accuracy: 0.8816 - val_loss: 0.8096 - val_sparse_categorical_accuracy: 0.7640\n",
            "Epoch 8/10\n",
            "\u001b[1m196/196\u001b[0m \u001b[32m━━━━━━━━━━━━━━━━━━━━\u001b[0m\u001b[37m\u001b[0m \u001b[1m14s\u001b[0m 67ms/step - loss: 0.2928 - sparse_categorical_accuracy: 0.8986 - val_loss: 0.7295 - val_sparse_categorical_accuracy: 0.7840\n",
            "Epoch 9/10\n",
            "\u001b[1m196/196\u001b[0m \u001b[32m━━━━━━━━━━━━━━━━━━━━\u001b[0m\u001b[37m\u001b[0m \u001b[1m14s\u001b[0m 68ms/step - loss: 0.2646 - sparse_categorical_accuracy: 0.9053 - val_loss: 0.7795 - val_sparse_categorical_accuracy: 0.7824\n",
            "Epoch 10/10\n",
            "\u001b[1m196/196\u001b[0m \u001b[32m━━━━━━━━━━━━━━━━━━━━\u001b[0m\u001b[37m\u001b[0m \u001b[1m14s\u001b[0m 67ms/step - loss: 0.2250 - sparse_categorical_accuracy: 0.9151 - val_loss: 0.8701 - val_sparse_categorical_accuracy: 0.7784\n"
          ]
        }
      ]
    },
    {
      "cell_type": "code",
      "source": [
        "# model.save('cifar10.h5')\n",
        "tf.keras.models.save_model(model, 'cifar10.keras')"
      ],
      "metadata": {
        "id": "-CNcmv0yeT4b"
      },
      "execution_count": 24,
      "outputs": []
    },
    {
      "cell_type": "code",
      "source": [
        "with strategy.scope():\n",
        "  model = tf.keras.models.load_model('cifar10.keras')\n",
        "  model.compile(\n",
        "      optimizer = 'adam',\n",
        "      loss = tf.keras.losses.SparseCategoricalCrossentropy(from_logits=True),\n",
        "      metrics = ['sparse_categorical_accuracy']\n",
        "  )\n",
        "  model.evaluate(test_dataset)\n",
        "  out = model.predict(X_test[:1])\n",
        "  print(out)"
      ],
      "metadata": {
        "colab": {
          "base_uri": "https://localhost:8080/"
        },
        "id": "WALtxWOleY4M",
        "outputId": "d6df20fb-2996-468f-f4fd-a11c426fab47"
      },
      "execution_count": 26,
      "outputs": [
        {
          "output_type": "stream",
          "name": "stderr",
          "text": [
            "/usr/local/lib/python3.11/dist-packages/keras/src/saving/saving_lib.py:713: UserWarning: Skipping variable loading for optimizer 'rmsprop', because it has 30 variables whereas the saved optimizer has 2 variables. \n",
            "  saveable.load_own_variables(weights_store.get(inner_path))\n",
            "/usr/local/lib/python3.11/dist-packages/keras/src/backend/tensorflow/nn.py:635: UserWarning: \"`sparse_categorical_crossentropy` received `from_logits=True`, but the `output` argument was produced by a Softmax activation and thus does not represent logits. Was this intended?\n",
            "  output, from_logits = _get_logits(\n"
          ]
        },
        {
          "output_type": "stream",
          "name": "stdout",
          "text": [
            "\u001b[1m40/40\u001b[0m \u001b[32m━━━━━━━━━━━━━━━━━━━━\u001b[0m\u001b[37m\u001b[0m \u001b[1m3s\u001b[0m 44ms/step - loss: 0.7842 - sparse_categorical_accuracy: 0.7890\n",
            "\u001b[1m1/1\u001b[0m \u001b[32m━━━━━━━━━━━━━━━━━━━━\u001b[0m\u001b[37m\u001b[0m \u001b[1m1s\u001b[0m 930ms/step\n",
            "[[1.4932425e-05 6.6006010e-08 2.4679044e-04 9.9647021e-01 1.8663927e-06\n",
            "  1.4778193e-03 1.7876541e-03 1.4634673e-08 5.6113504e-07 1.0952578e-07]]\n"
          ]
        }
      ]
    }
  ]
}